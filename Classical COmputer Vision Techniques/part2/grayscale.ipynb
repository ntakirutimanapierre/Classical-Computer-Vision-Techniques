{
 "cells": [
  {
   "cell_type": "markdown",
   "metadata": {},
   "source": [
    "## Library Importation"
   ]
  },
  {
   "cell_type": "code",
   "execution_count": 49,
   "metadata": {},
   "outputs": [],
   "source": [
    "# import necessary libraries\n",
    "import json\n",
    "import copy\n"
   ]
  },
  {
   "cell_type": "markdown",
   "metadata": {},
   "source": [
    "## Read Images"
   ]
  },
  {
   "cell_type": "code",
   "execution_count": 50,
   "metadata": {},
   "outputs": [],
   "source": [
    "# Read colored image\n",
    "with open(\"data/prof_barry.json\") as infile:\n",
    "    col_img = json.load(infile)\n",
    "\n",
    "# Read floating point gray image\n",
    "with open(\"data/prof_barry_gray.json\") as infile:\n",
    "    gray_img = json.load(infile)\n",
    "\n",
    "# Read quantized gray image\n",
    "with open(\"data/prof_barry_gray_quant.json\") as infile:\n",
    "    gray_quant_img = json.load(infile)"
   ]
  },
  {
   "cell_type": "markdown",
   "metadata": {},
   "source": [
    "## Definition of the RGB Matrix and Grayscale Vectors"
   ]
  },
  {
   "cell_type": "code",
   "execution_count": 51,
   "metadata": {},
   "outputs": [],
   "source": [
    "# shape of colored image is: (533, 799, 3)\n",
    "# shape of grayscale image is: (533, 799)\n",
    "# shape of quantized grayscale image is: (533, 799)\n",
    "\n",
    "# Get rgb matrix and grayscale vectors\n",
    "rgb_matrix  = [col_img[0][0], col_img[0][2], col_img[0][3]] # RGB matrix\n",
    "gray_matrix = [gray_img[0][0], gray_img[0][2], gray_img[0][3]] # floating-point grayscale values\n",
    "gray_quant_matrix = [gray_quant_img[0][0], gray_quant_img[0][2], gray_quant_img[0][3]] # integer grayscale values"
   ]
  },
  {
   "cell_type": "markdown",
   "metadata": {},
   "source": [
    "## Finding the Inverse of a 3x3 Matrix Using Gauss-Jordan and Cofactors"
   ]
  },
  {
   "cell_type": "code",
   "execution_count": 52,
   "metadata": {},
   "outputs": [],
   "source": [
    "def inv_gauss_jordan(mat: list) -> list:\n",
    "    \"\"\" \n",
    "    This function uses the Gauss-jordan elimination method\n",
    "    to find the inverse of a matrix.\n",
    "\n",
    "    Arguments\n",
    "    ---------\n",
    "    mat: matrix to be inverted (list-of-lists)\n",
    "\n",
    "    Results\n",
    "    -------\n",
    "    inv: inverse of matrix\n",
    "    \"\"\"\n",
    "    \n",
    "    # define the identity matrix\n",
    "    id_mat = [[1, 0, 0], [0, 1, 0], [0, 0, 1]]\n",
    "    \n",
    "    # define the augmented matrix\n",
    "    aug_mat = [row_mat + id_mat[i] for i, row_mat in enumerate(mat)]\n",
    "\n",
    "    # Gauss-Jordan elimination\n",
    "    size = 3  # We are working with 3x3 matrices\n",
    "    \n",
    "    for i in range(size):\n",
    "        pivot = aug_mat[i][i]\n",
    "        \n",
    "        # Check for a non-zero pivot\n",
    "        if pivot == 0:\n",
    "            # Find a row with a non-zero pivot and swap it with the current row\n",
    "            for j in range(i + 1, size):\n",
    "                if aug_mat[j][i] != 0:\n",
    "                    aug_mat[i], aug_mat[j] = aug_mat[j], aug_mat[i]\n",
    "                    break\n",
    "            else:\n",
    "                # If no row with a non-zero pivot is found, the matrix is singular and cannot be inverted.\n",
    "                # Return an empty list to indicate this.\n",
    "                return []\n",
    "            pivot = aug_mat[i][i]\n",
    "            # raise ValueError(\"Matrix is singular, cannot compute inverse.\")\n",
    "        \n",
    "        # Scale the current row to make the pivot equal to 1\n",
    "        for j in range(size * 2):\n",
    "            aug_mat[i][j] /= pivot\n",
    "        \n",
    "        # Eliminate other rows\n",
    "        for k in range(size):\n",
    "            if k == i:\n",
    "                continue\n",
    "            ratio = aug_mat[k][i]\n",
    "            for j in range(size * 2):\n",
    "                aug_mat[k][j] -= ratio * aug_mat[i][j]\n",
    "\n",
    "    # Extract the inverse matrix from the augmented matrix\n",
    "    inv = [row_mat[size:] for row_mat in aug_mat]\n",
    "    \n",
    "    return inv\n"
   ]
  },
  {
   "cell_type": "code",
   "execution_count": 53,
   "metadata": {},
   "outputs": [],
   "source": [
    "# Create a class that finds the inverse of a 3x3 matrix using cofactors method \n",
    "class CofactorInv3:\n",
    "    def __init__(self, matrix) -> None:\n",
    "        self.mat = matrix \n",
    "    \n",
    "    def transpose(self, matrix):\n",
    "        \"\"\" \n",
    "            This method transposes a matrix\n",
    "\n",
    "            Arguments\n",
    "            ---------\n",
    "            matrix: matrix to be transposed (list-of-lists)\n",
    "\n",
    "            Returns\n",
    "            --------\n",
    "            trans: transpose of matrix\n",
    "        \"\"\"\n",
    "        trans = [[matrix[j][i] for j in range(len(matrix))] for i in range(len(matrix[0]))]\n",
    "        return trans \n",
    "\n",
    "    def get_minor(self, matrix, row, col):\n",
    "        \"\"\" \n",
    "            This method returns the minor of a matrix\n",
    "\n",
    "            Arguments\n",
    "            ---------\n",
    "            matrix: matrix (list-of-lists)\n",
    "            row: row index\n",
    "            col: column index\n",
    "\n",
    "            Returns\n",
    "            --------\n",
    "            minor: minor of a 2x2 matrix\n",
    "        \"\"\"\n",
    "        # chop off the row and column of the element\n",
    "        temp_mat = copy.deepcopy(matrix)\n",
    "\n",
    "\n",
    "        \n",
    "        #TODO: Write your code to get the minor of a matrix\n",
    "        \n",
    "        # create a zero  array of the same size as the matrix\n",
    "        # minor = np.zeros(matrix.shape)\n",
    "        \n",
    "        del temp_mat[row]\n",
    "        # minor = [r.pop(col) for r in minor]\n",
    "        minor = []\n",
    "        for column in temp_mat:\n",
    "            del column[col]\n",
    "            minor.append(column)\n",
    "        \n",
    "        return minor # uncomment this when you are done\n",
    "\n",
    "    \n",
    "    def det(self, matrix):\n",
    "        \"\"\" \n",
    "            This method calculates the determinant of a matrix \n",
    "\n",
    "            Arguments\n",
    "            ---------\n",
    "            matrix: matrix (list-of-lists)\n",
    "\n",
    "            Returns\n",
    "            --------\n",
    "            determinant: determinant of matrix\n",
    "        \"\"\"\n",
    "        # base case: if matrix is 2x2\n",
    "        \n",
    "        if len(matrix) == 2:\n",
    "            return matrix[0][0] * matrix[1][1] - matrix[0][1] * matrix[1][0]\n",
    "        \n",
    "        # if matrix is 3x3\n",
    "        if len(matrix) != len(matrix[0]):\n",
    "            raise ValueError(\"Matrix is not square! it has no determinant\")\n",
    "        determinant = 0\n",
    "        for row in range(len(matrix)):\n",
    "            for col in range(len(matrix)):\n",
    "                minor = self.get_minor(matrix, col, row)\n",
    "                determinant +=( (-1) ** ( row) )* matrix[col][row] * self.det(minor)\n",
    "\n",
    "\n",
    "            #TODOL Write your code to calculate the determinant of a 3X3 matrix\n",
    "            # pass \n",
    "        return determinant # uncomment this when you are done\n",
    "\n",
    "    def get_cofactor(self, matrix):\n",
    "        \"\"\" \n",
    "            This method calculates the cofactor of a matrix \n",
    "\n",
    "            Arguments\n",
    "            ---------\n",
    "            matrix: matrix (list-of-lists)\n",
    "\n",
    "            Returns\n",
    "            --------\n",
    "            cofactor: cofactor of matrix\n",
    "        \"\"\"\n",
    "        cofactor = [] # initialize the cofactor matrix\n",
    "        \n",
    "        #TODO: Write your code to calculate the cofactor of a matrix\n",
    "        for i in range(len(matrix)):\n",
    "            row = []\n",
    "            for j in range(len(matrix)):\n",
    "                temp_matrix = self.get_minor(matrix, i, j)\n",
    "                row.append((-1)**(i+j)*self.det(temp_matrix))\n",
    "            cofactor.append(row)\n",
    "            # pass\n",
    "\n",
    "        \n",
    "        return cofactor # uncomment this when you are done\n",
    "\n",
    "    \n",
    "    def get_inverse(self):\n",
    "        \"\"\" \n",
    "            This method calculates the inverse of a matrix \n",
    "\n",
    "            Arguments\n",
    "            ---------\n",
    "            matrix: matrix (list-of-lists)\n",
    "\n",
    "            Returns\n",
    "            --------\n",
    "            inv: inverse of matrix (adjoint/determinant where \n",
    "            adjoint is the transpose of the cofactor matrix)\n",
    "        \"\"\"\n",
    "        # calculate the determinant of the matrix\n",
    "        det = self.det(self.mat)\n",
    "\n",
    "        if det == 0:\n",
    "            raise ValueError(\"The matrix has no inverse\")\n",
    "        \n",
    "        # calculate the cofactor of the matrix\n",
    "        cofactor = self.get_cofactor(self.mat)  #None # TODO: Write your code to calculate the cofactor of a matrix\n",
    "        # print(cofactor)\n",
    "        \n",
    "        # calculate the adjoint of the matrix\n",
    "        adjoint = self.transpose(cofactor)\n",
    "\n",
    "        # calculate the inverse of the matrix\n",
    "        inv = [[element / det for element in row] for row in adjoint]\n",
    "        \n",
    "        return inv # uncomment this when you are done\n"
   ]
  },
  {
   "cell_type": "markdown",
   "metadata": {},
   "source": [
    "## Verify the Gauss-Jordan and Cofactors Method"
   ]
  },
  {
   "cell_type": "code",
   "execution_count": 54,
   "metadata": {},
   "outputs": [
    {
     "name": "stdout",
     "output_type": "stream",
     "text": [
      "[[0.375, 0.0, 0.25], [0.5, 0.0, 0.0], [-0.5833333333333334, 0.3333333333333333, -0.16666666666666666]]\n"
     ]
    }
   ],
   "source": [
    "# verify your gauss-jordan inverse function\n",
    "mat = [[0, 2, 0], [2, 2, 3], [4, -3, 0]]\n",
    "inverse = inv_gauss_jordan(mat)\n",
    "print(inverse)"
   ]
  },
  {
   "cell_type": "code",
   "execution_count": 55,
   "metadata": {},
   "outputs": [
    {
     "name": "stdout",
     "output_type": "stream",
     "text": [
      "[[0.375, 0.0, 0.25], [0.5, 0.0, 0.0], [-0.5833333333333334, 0.3333333333333333, -0.16666666666666666]]\n"
     ]
    }
   ],
   "source": [
    "# verify your Cofactors class\n",
    "mat = [[0, 2, 0], [2, 2, 3], [4, -3, 0]]\n",
    "cofac_obj = CofactorInv3(mat)\n",
    "inverse = cofac_obj.get_inverse()\n",
    "print(inverse)"
   ]
  },
  {
   "cell_type": "code",
   "execution_count": null,
   "metadata": {},
   "outputs": [],
   "source": []
  },
  {
   "cell_type": "markdown",
   "metadata": {},
   "source": [
    "## Verify Relationship Between Grayscale and RGB  (Using Quantized Grayscale Values)"
   ]
  },
  {
   "cell_type": "code",
   "execution_count": 56,
   "metadata": {},
   "outputs": [
    {
     "name": "stdout",
     "output_type": "stream",
     "text": [
      "[0.5942028985507477, 0.20289855072462615, 0.10144927536231307]\n"
     ]
    }
   ],
   "source": [
    "# verify the relationship between grayscale and RGB for Cofactors (Using Quantized Grayscale values)\n",
    "cofac_obj = CofactorInv3(rgb_matrix)\n",
    "inverse = cofac_obj.get_inverse()\n",
    "\n",
    "# Perform matrix multiplication\n",
    "result = [0, 0, 0]\n",
    "for i in range(3):\n",
    "    for j in range(3):\n",
    "        # TODO: Complete your matrix multiplication step (just one line of code)\n",
    "        # pass\n",
    "        result[i] += inverse[i][j] * gray_quant_matrix[j]\n",
    "\n",
    "# Print the result\n",
    "print(result)\n"
   ]
  },
  {
   "cell_type": "code",
   "execution_count": 57,
   "metadata": {},
   "outputs": [
    {
     "name": "stdout",
     "output_type": "stream",
     "text": [
      "[0.5942028985506624, 0.202898550724683, 0.10144927536232728]\n"
     ]
    }
   ],
   "source": [
    "# verify the relationship between grayscale and RGB for Gauss-Jordan (Using Quantized Grayscale values)\n",
    "inverse = inv_gauss_jordan(rgb_matrix)\n",
    "\n",
    "# Perform matrix multiplication\n",
    "result = [0, 0, 0]\n",
    "for i in range(3):\n",
    "    for j in range(3):\n",
    "        # TODO: Complete your matrix multiplication step (just one line of code)\n",
    "        pass\n",
    "        result[i] += inverse[i][j] * gray_quant_matrix[j]\n",
    "\n",
    "# Print the result\n",
    "print(result)\n"
   ]
  },
  {
   "cell_type": "markdown",
   "metadata": {},
   "source": [
    "## Verify Relationship Between Grayscale and RGB (Using Unquantized Grayscale Values)"
   ]
  },
  {
   "cell_type": "code",
   "execution_count": 58,
   "metadata": {},
   "outputs": [
    {
     "name": "stdout",
     "output_type": "stream",
     "text": [
      "[0.11400792218637434, 0.5869932312896253, 0.2989974091018581]\n"
     ]
    }
   ],
   "source": [
    "## Verify Relationship Between Grayscale and RGB for Cofactors (Using Unquantized Grayscale Values)\n",
    "cofac_obj = CofactorInv3(rgb_matrix)\n",
    "inverse = cofac_obj.get_inverse()\n",
    "\n",
    "# Perform matrix multiplication\n",
    "result = [0, 0, 0]\n",
    "for i in range(3):\n",
    "    for j in range(3):\n",
    "        # TODO: Complete your matrix multiplication step (just one line of code)\n",
    "        # pass\n",
    "        result[i] += inverse[i][j] * gray_matrix[j]\n",
    "    \n",
    "\n",
    "# Print the result\n",
    "print(result)\n"
   ]
  },
  {
   "cell_type": "code",
   "execution_count": 59,
   "metadata": {},
   "outputs": [
    {
     "name": "stdout",
     "output_type": "stream",
     "text": [
      "[0.1140079221863175, 0.5869932312896822, 0.2989974091018581]\n"
     ]
    }
   ],
   "source": [
    "## Verify Relationship Between Grayscale and RGB for Gauss-Jordan (Using Unquantized Grayscale Values)\n",
    "inverse = inv_gauss_jordan(rgb_matrix)\n",
    "\n",
    "# Perform matrix multiplication\n",
    "result = [0, 0, 0]\n",
    "for i in range(3):\n",
    "    for j in range(3):\n",
    "        # TODO: Complete your matrix multiplication step (just one line of code)\n",
    "        # pass\n",
    "        result[i] += inverse[i][j] * gray_matrix[j]\n",
    "\n",
    "# Print the result\n",
    "print(result)\n"
   ]
  },
  {
   "cell_type": "markdown",
   "metadata": {},
   "source": [
    "### Convert RGB to Grayscale using Results from Gauss-Jordan or Cofactors Method"
   ]
  },
  {
   "cell_type": "code",
   "execution_count": 60,
   "metadata": {},
   "outputs": [],
   "source": [
    "# convert rgb_matrix (list-of-lists) to grayscale\n",
    "\n",
    "gray_conv = [[None for _ in range(799)] for _ in range(533)] # list to hold grayscale values \n",
    "\n",
    "for row in range(533):\n",
    "    for col in range(799):\n",
    "        r, g, b = col_img[row][col] # extract RGB values\n",
    "        gray_val = (r*result[0] + g*result[1] + b*result[2])    #TODO: Put your equation to get the grayscale values here\n",
    "        gray_conv[row][col] = gray_val\n",
    "\n",
    "\n",
    "# save your result to a json file\n",
    "with open('result/result_gray.json', 'w') as outfile:\n",
    "    json.dump(gray_conv, outfile)\n"
   ]
  },
  {
   "cell_type": "code",
   "execution_count": 61,
   "metadata": {},
   "outputs": [],
   "source": [
    "# view your image (if you are on a Linux machine, replace python below with python3)\n",
    "# otherwise, running the code below should work\n",
    "!python viewer.py --gray=result/result_gray.json"
   ]
  }
 ],
 "metadata": {
  "kernelspec": {
   "display_name": "Python 3",
   "language": "python",
   "name": "python3"
  },
  "language_info": {
   "codemirror_mode": {
    "name": "ipython",
    "version": 3
   },
   "file_extension": ".py",
   "mimetype": "text/x-python",
   "name": "python",
   "nbconvert_exporter": "python",
   "pygments_lexer": "ipython3",
   "version": "3.11.3"
  }
 },
 "nbformat": 4,
 "nbformat_minor": 2
}
